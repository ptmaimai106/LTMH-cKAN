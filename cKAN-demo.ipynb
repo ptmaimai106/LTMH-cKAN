{
 "cells": [
  {
   "cell_type": "markdown",
   "metadata": {},
   "source": [
    "## Convolutional Kolmogorov-Arnold Networks"
   ]
  },
  {
   "cell_type": "markdown",
   "metadata": {},
   "source": [
    "Load thư viện và các model cần thiết"
   ]
  },
  {
   "cell_type": "code",
   "execution_count": 26,
   "metadata": {},
   "outputs": [
    {
     "name": "stdout",
     "output_type": "stream",
     "text": [
      "The autoreload extension is already loaded. To reload it, use:\n",
      "  %reload_ext autoreload\n"
     ]
    }
   ],
   "source": [
    "# import torch\n",
    "# import torch.nn as nn\n",
    "# import torch.optim as optim\n",
    "# from torchvision import datasets, transforms\n",
    "# import numpy as np\n",
    "# import matplotlib.pyplot as plt\n",
    "\n",
    "\n",
    "# from architectures_28x28.SimpleModels import *\n",
    "# from architectures_28x28.KKAN import KKAN_Convolutional_Network\n",
    "\n",
    "%load_ext autoreload\n",
    "%autoreload 2\n",
    "import matplotlib.pyplot as plt\n",
    "from tqdm import tqdm\n",
    "import numpy as np\n",
    "import pandas as pd\n",
    "from sklearn.metrics import precision_score, recall_score, f1_score\n",
    "\n",
    "import torch\n",
    "import torch.nn as nn\n",
    "import torch.optim as optim\n",
    "import torchvision.transforms as transforms\n",
    "from torchvision.datasets import MNIST\n",
    "\n",
    "from torch.utils.data import DataLoader\n",
    "\n",
    "from architectures_28x28.CKAN_BN import CKAN_BN\n",
    "from architectures_28x28.SimpleModels import *\n",
    "from architectures_28x28.ConvNet import ConvNet\n",
    "from architectures_28x28.KANConvs_MLP import KANC_MLP\n",
    "from architectures_28x28.KKAN import KKAN_Convolutional_Network\n",
    "from architectures_28x28.conv_and_kan import NormalConvsKAN\n"
   ]
  },
  {
   "cell_type": "code",
   "execution_count": 27,
   "metadata": {},
   "outputs": [
    {
     "name": "stdout",
     "output_type": "stream",
     "text": [
      "cuda\n"
     ]
    }
   ],
   "source": [
    "device = torch.device(\"cuda\" if torch.cuda.is_available() else \"cpu\")\n",
    "print(device)"
   ]
  },
  {
   "cell_type": "code",
   "execution_count": 60,
   "metadata": {},
   "outputs": [
    {
     "data": {
      "text/plain": [
       "KKAN_Convolutional_Network(\n",
       "  (conv1): KAN_Convolutional_Layer(\n",
       "    (convs): ModuleList(\n",
       "      (0-4): 5 x KAN_Convolution(\n",
       "        (conv): KANLinear(\n",
       "          (base_activation): SiLU()\n",
       "        )\n",
       "      )\n",
       "    )\n",
       "  )\n",
       "  (conv2): KAN_Convolutional_Layer(\n",
       "    (convs): ModuleList(\n",
       "      (0-4): 5 x KAN_Convolution(\n",
       "        (conv): KANLinear(\n",
       "          (base_activation): SiLU()\n",
       "        )\n",
       "      )\n",
       "    )\n",
       "  )\n",
       "  (pool1): MaxPool2d(kernel_size=(2, 2), stride=(2, 2), padding=0, dilation=1, ceil_mode=False)\n",
       "  (flat): Flatten(start_dim=1, end_dim=-1)\n",
       "  (kan1): KANLinear(\n",
       "    (base_activation): SiLU()\n",
       "  )\n",
       ")"
      ]
     },
     "execution_count": 60,
     "metadata": {},
     "output_type": "execute_result"
    }
   ],
   "source": [
    "kkan_model = KKAN_Convolutional_Network()\n",
    "# kkan_model.to(device)\n",
    "kkan_model.load_state_dict(torch.load('models/KKAN_Convolutional/best_model.pth',weights_only=True))\n",
    "kkan_model.eval()  "
   ]
  },
  {
   "cell_type": "code",
   "execution_count": null,
   "metadata": {},
   "outputs": [],
   "source": [
    "import torch\n",
    "\n",
    "# Load the model (assuming it was saved previously)\n",
    "model_path = 'path_to_kkan_model.pth'\n",
    "kkan_model = torch.load(model_path)\n",
    "\n",
    "# Check the device of model parameters\n",
    "def check_model_device(model):\n",
    "    for name, param in model.named_parameters():\n",
    "        print(f\"Parameter {name} is on device: {param.device}\")\n",
    "        break  # Print the device of the first parameter only for brevity\n",
    "\n",
    "check_model_device(kkan_model)\n",
    "\n",
    "# Output the device for all parameters (optional)\n",
    "def check_all_parameters_device(model):\n",
    "    for name, param in model.named_parameters():\n",
    "        print(f\"Parameter {name} is on device: {param.device}\")\n",
    "\n",
    "# Uncomment to check all parameters\n",
    "# check_all_parameters_device(kkan_model)\n"
   ]
  },
  {
   "cell_type": "code",
   "execution_count": 51,
   "metadata": {},
   "outputs": [
    {
     "data": {
      "text/plain": [
       "NormalConvsKAN(\n",
       "  (conv1): Conv2d(1, 5, kernel_size=(3, 3), stride=(1, 1), padding=(1, 1))\n",
       "  (conv2): Conv2d(5, 5, kernel_size=(3, 3), stride=(1, 1), padding=(1, 1))\n",
       "  (maxpool): MaxPool2d(kernel_size=2, stride=2, padding=0, dilation=1, ceil_mode=False)\n",
       "  (flatten): Flatten(start_dim=1, end_dim=-1)\n",
       "  (kan1): KANLinear(\n",
       "    (base_activation): SiLU()\n",
       "  )\n",
       ")"
      ]
     },
     "execution_count": 51,
     "metadata": {},
     "output_type": "execute_result"
    }
   ],
   "source": [
    "ckan = NormalConvsKAN()\n",
    "ckan.to(device)\n",
    "ckan.load_state_dict(torch.load('models/NormalConvsKAN/best_model.pth',weights_only=True))\n",
    "ckan.eval()  "
   ]
  },
  {
   "cell_type": "code",
   "execution_count": 29,
   "metadata": {},
   "outputs": [
    {
     "data": {
      "text/plain": [
       "SimpleCNN_2(\n",
       "  (conv1): Conv2d(1, 5, kernel_size=(3, 3), stride=(1, 1))\n",
       "  (conv2): Conv2d(5, 25, kernel_size=(3, 3), stride=(1, 1))\n",
       "  (maxpool): MaxPool2d(kernel_size=2, stride=2, padding=0, dilation=1, ceil_mode=False)\n",
       "  (flatten): Flatten(start_dim=1, end_dim=-1)\n",
       "  (fc): Linear(in_features=625, out_features=245, bias=True)\n",
       "  (fc2): Linear(in_features=245, out_features=10, bias=True)\n",
       ")"
      ]
     },
     "execution_count": 29,
     "metadata": {},
     "output_type": "execute_result"
    }
   ],
   "source": [
    "modelCNN = SimpleCNN_2()\n",
    "modelCNN.to()\n",
    "modelCNN.load_state_dict(torch.load('models/SimpleCNN_2/best_model.pth', weights_only=True))\n",
    "modelCNN.eval()  # Đặt mô hình ở chế độ đánh giá"
   ]
  },
  {
   "cell_type": "code",
   "execution_count": 38,
   "metadata": {},
   "outputs": [],
   "source": [
    "transform = transforms.Compose([\n",
    "    transforms.ToTensor(),\n",
    "    transforms.Normalize((0.1307,), (0.3081,))\n",
    "])\n",
    "\n",
    "test_dataset = MNIST(root='./data', train=False, transform=transform, download=True)\n",
    "test_loader = torch.utils.data.DataLoader(test_dataset, batch_size=1, shuffle=True)\n"
   ]
  },
  {
   "cell_type": "code",
   "execution_count": 63,
   "metadata": {},
   "outputs": [
    {
     "name": "stdout",
     "output_type": "stream",
     "text": [
      "Data device: cpu, Target device: cpu\n",
      "Output device: cpu\n",
      "Predicted: 4, Actual: 4\n"
     ]
    },
    {
     "data": {
      "image/png": "[encoded data removed]",
      "text/plain": [
       "<Figure size 640x480 with 1 Axes>"
      ]
     },
     "metadata": {},
     "output_type": "display_data"
    }
   ],
   "source": [
    "def predictFirstNumber(model, device, test_loader):\n",
    "    # model.to(device)\n",
    "    model.eval()\n",
    "   \n",
    "\n",
    "    with torch.no_grad():\n",
    "        for data, target in test_loader:\n",
    "            # data, target = data.to(device), target.to(device)\n",
    "            print(f\"Data device: {data.device}, Target device: {target.device}\")\n",
    "\n",
    "            output = model(data)\n",
    "            print(f\"Output device: {output.device}\")\n",
    "            pred = output.argmax(dim=1, keepdim=True)\n",
    "            print(f'Predicted: {pred.item()}, Actual: {target.item()}')\n",
    "\n",
    "            plt.imshow(data.cpu().squeeze().numpy(), cmap='gray')\n",
    "            plt.show()\n",
    "            break  \n",
    "\n",
    "# predictFirstNumber(ckan, device, test_loader)\n",
    "\n",
    "predictFirstNumber(kkan_model, device, test_loader)\n"
   ]
  },
  {
   "cell_type": "code",
   "execution_count": 20,
   "metadata": {},
   "outputs": [],
   "source": [
    "def evaluate_model(model, test_loader):\n",
    "    model.eval()\n",
    "    correct = 0\n",
    "    total = 0\n",
    "    all_labels = []\n",
    "    all_preds = []\n",
    "\n",
    "    with torch.no_grad():\n",
    "        for images, labels in test_loader:\n",
    "            outputs = model(images)\n",
    "            _, predicted = torch.max(outputs, 1)\n",
    "            all_labels.extend(labels)\n",
    "            all_preds.extend(predicted)\n",
    "\n",
    "            total += labels.size(0)\n",
    "            correct += (predicted == labels).sum().item()\n",
    "\n",
    "    accuracy = correct / total\n",
    "    return accuracy, all_labels, all_preds"
   ]
  },
  {
   "cell_type": "code",
   "execution_count": 21,
   "metadata": {},
   "outputs": [
    {
     "name": "stdout",
     "output_type": "stream",
     "text": [
      "10000\n"
     ]
    }
   ],
   "source": [
    "print(len(test_dataset))"
   ]
  },
  {
   "cell_type": "code",
   "execution_count": 22,
   "metadata": {},
   "outputs": [],
   "source": [
    "from sklearn.metrics import confusion_matrix\n",
    "import seaborn as sns\n"
   ]
  },
  {
   "cell_type": "code",
   "execution_count": 25,
   "metadata": {},
   "outputs": [
    {
     "name": "stdout",
     "output_type": "stream",
     "text": [
      "CNN Model Accuracy: 97.88%\n"
     ]
    }
   ],
   "source": [
    "cnn_accuracy, cnn_labels, cnn_preds = evaluate_model(modelCNN, test_loader)\n",
    "print(f'CNN Model Accuracy: {cnn_accuracy * 100:.2f}%')"
   ]
  },
  {
   "cell_type": "code",
   "execution_count": 31,
   "metadata": {},
   "outputs": [
    {
     "name": "stdout",
     "output_type": "stream",
     "text": [
      "cKAN Model Accuracy: 61.25%\n"
     ]
    },
    {
     "data": {
      "image/png": "[encoded data removed]",
      "text/plain": [
       "<Figure size 1000x800 with 2 Axes>"
      ]
     },
     "metadata": {},
     "output_type": "display_data"
    }
   ],
   "source": [
    "ckan_accuracy, ckan_labels, ckan_preds = evaluate_model(kkan_model, test_loader)\n",
    "print(f'cKAN Model Accuracy: {ckan_accuracy * 100:.2f}%')\n",
    "ckan_cm = confusion_matrix(ckan_labels, ckan_preds)\n",
    "plt.figure(figsize=(10, 8))\n",
    "sns.heatmap(ckan_cm, annot=True, fmt='d', cmap='Blues', xticklabels=range(10), yticklabels=range(10))\n",
    "plt.xlabel('cKAN Predicted')\n",
    "plt.ylabel('cKAN True')\n",
    "plt.show()\n"
   ]
  }
 ],
 "metadata": {
  "kernelspec": {
   "display_name": "Python 3",
   "language": "python",
   "name": "python3"
  },
  "language_info": {
   "codemirror_mode": {
    "name": "ipython",
    "version": 3
   },
   "file_extension": ".py",
   "mimetype": "text/x-python",
   "name": "python",
   "nbconvert_exporter": "python",
   "pygments_lexer": "ipython3",
   "version": "3.11.9"
  }
 },
 "nbformat": 4,
 "nbformat_minor": 2
}
