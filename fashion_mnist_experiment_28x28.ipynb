{
 "cells": [
  {
   "cell_type": "markdown",
   "metadata": {},
   "source": [
    "## Package"
   ]
  },
  {
   "cell_type": "code",
   "execution_count": 1,
   "metadata": {},
   "outputs": [],
   "source": [
    "%load_ext autoreload\n",
    "%autoreload 2\n",
    "import matplotlib.pyplot as plt\n",
    "from tqdm import tqdm\n",
    "import numpy as np\n",
    "import pandas as pd\n",
    "from sklearn.metrics import accuracy_score, precision_score, recall_score, f1_score\n",
    "\n",
    "import torch\n",
    "import torch.nn as nn\n",
    "import torch.optim as optim\n",
    "import torchvision.transforms as transforms\n",
    "from torchvision.datasets import FashionMNIST\n",
    "\n",
    "from torch.utils.data import DataLoader\n",
    "\n",
    "from architectures_28x28.CKAN_BN import CKAN_BN\n",
    "from architectures_28x28.SimpleModels import *\n",
    "from architectures_28x28.ConvNet import ConvNet\n",
    "from architectures_28x28.KANConvs_MLP import KANC_MLP\n",
    "from architectures_28x28.KKAN import KKAN_Convolutional_Network\n",
    "from architectures_28x28.conv_and_kan import NormalConvsKAN\n"
   ]
  },
  {
   "cell_type": "markdown",
   "metadata": {},
   "source": [
    "## Dataset"
   ]
  },
  {
   "cell_type": "code",
   "execution_count": 2,
   "metadata": {},
   "outputs": [],
   "source": [
    "# Transformaciones\n",
    "transform = transforms.Compose([transforms.ToTensor(), transforms.Normalize((0.5,), (0.5,))])\n",
    "fashion_mnist_test = FashionMNIST(root='./data', train=False, transform=transform, download=True)\n",
    "fashion_mnist_test_loader = DataLoader(fashion_mnist_test, batch_size=64, shuffle=False)"
   ]
  },
  {
   "cell_type": "markdown",
   "metadata": {},
   "source": [
    "## Set Device"
   ]
  },
  {
   "cell_type": "code",
   "execution_count": 3,
   "metadata": {},
   "outputs": [
    {
     "name": "stdout",
     "output_type": "stream",
     "text": [
      "cuda\n"
     ]
    }
   ],
   "source": [
    "device = torch.device(\"cuda\" if torch.cuda.is_available() else \"cpu\")\n",
    "print(device)"
   ]
  },
  {
   "cell_type": "markdown",
   "metadata": {},
   "source": [
    "## Load model"
   ]
  },
  {
   "cell_type": "code",
   "execution_count": 4,
   "metadata": {},
   "outputs": [],
   "source": [
    "def load_model(model_class, model_path):\n",
    "    model = model_class()\n",
    "    model.to(device)\n",
    "    model.load_state_dict(torch.load(model_path, weights_only=True, map_location=device))\n",
    "    model.eval()\n",
    "    return model"
   ]
  },
  {
   "cell_type": "code",
   "execution_count": 8,
   "metadata": {},
   "outputs": [],
   "source": [
    "def calculate_metrics(model, dataloader, device):\n",
    "    model.eval()\n",
    "    all_preds = []\n",
    "    all_labels = []\n",
    "    \n",
    "    with torch.no_grad():\n",
    "        for data, target in dataloader:\n",
    "\n",
    "            if not isinstance(data, torch.Tensor):\n",
    "                data = torch.tensor(data)\n",
    "            if not isinstance(target, torch.Tensor):\n",
    "                target = torch.tensor(target)\n",
    "\n",
    "\n",
    "            data, target = data.to(device), target.to(device)  # Ensure data and target are on the correct device\n",
    "            output = model(data)\n",
    "            preds = output.argmax(dim=1, keepdim=True).cpu().numpy()\n",
    "            all_preds.extend(preds)\n",
    "            all_labels.extend(target.cpu().numpy())\n",
    "    \n",
    "    all_preds = np.array(all_preds).flatten()\n",
    "    all_labels = np.array(all_labels).flatten()\n",
    "    \n",
    "    accuracy = accuracy_score(all_labels, all_preds)\n",
    "    precision = precision_score(all_labels, all_preds, average='weighted')\n",
    "    recall = recall_score(all_labels, all_preds, average='weighted')\n",
    "    f1 = f1_score(all_labels, all_preds, average='weighted')\n",
    "    \n",
    "    return accuracy, precision, recall, f1\n",
    "\n",
    "\n",
    "\n",
    "def count_parameters(model):\n",
    "    return sum(p.numel() for p in model.parameters() if p.requires_grad)"
   ]
  },
  {
   "cell_type": "code",
   "execution_count": 6,
   "metadata": {},
   "outputs": [],
   "source": [
    "models = {\n",
    "    'SimpleCNN_2': 'models/fashion-mnist/SimpleCNN_2/best_model.pth',\n",
    "    'SimpleCNN': 'models/fashion-mnist/SimpleCNN/best_model.pth',\n",
    "    'SimpleLinear': 'models/fashion-mnist/SimpleLinear/best_model.pth',\n",
    "    'ConvNet': 'models/fashion-mnist/ConvNet/best_model.pth',\n",
    "    'NormalConvsKAN': 'models/fashion-mnist/NormalConvsKAN/best_model.pth',\n",
    "}\n"
   ]
  },
  {
   "cell_type": "code",
   "execution_count": 9,
   "metadata": {},
   "outputs": [],
   "source": [
    "fashion_mnist_results = []\n",
    "\n",
    "for model_name, model_path in models.items():\n",
    "    model_class = globals()[model_name]\n",
    "    model = load_model(model_class, model_path)\n",
    "    \n",
    "    fashion_mnist_metrics = calculate_metrics(model, fashion_mnist_test_loader, device)\n",
    "    num_params = count_parameters(model)\n",
    "    \n",
    "   \n",
    "    fashion_mnist_results.append({\n",
    "        'Model': model_name,\n",
    "        'Accuracy': fashion_mnist_metrics[0],\n",
    "        'Precision': fashion_mnist_metrics[1],\n",
    "        'Recall': fashion_mnist_metrics[2],\n",
    "        'F1 Score': fashion_mnist_metrics[3],\n",
    "        'Parameters': num_params\n",
    "    })"
   ]
  },
  {
   "cell_type": "code",
   "execution_count": 13,
   "metadata": {},
   "outputs": [],
   "source": [
    "kkan_mlp = KANC_MLP(device=device)\n",
    "kkan_mlp.to(device)\n",
    "kkan_mlp.load_state_dict(torch.load('models/fashion-mnist/KANC_MLP/best_model.pth',weights_only=True))\n",
    "kkan_mlp.eval()  \n",
    "\n",
    "\n",
    "kkan_mlp_metrics = calculate_metrics(kkan_mlp, fashion_mnist_test_loader, device)\n",
    "num_params_kkan_mlp = count_parameters(kkan_mlp)\n",
    "\n",
    "fashion_mnist_results.append({\n",
    "        'Model': \"KANC_MLP\",\n",
    "        'Accuracy': kkan_mlp_metrics[0],\n",
    "        'Precision': kkan_mlp_metrics[1],\n",
    "        'Recall': kkan_mlp_metrics[2],\n",
    "        'F1 Score': kkan_mlp_metrics[3],\n",
    "        'Parameters': num_params_kkan_mlp\n",
    "    })\n"
   ]
  },
  {
   "cell_type": "code",
   "execution_count": 11,
   "metadata": {},
   "outputs": [
    {
     "data": {
      "text/plain": [
       "KKAN_Convolutional_Network(\n",
       "  (conv1): KAN_Convolutional_Layer(\n",
       "    (convs): ModuleList(\n",
       "      (0-4): 5 x KAN_Convolution(\n",
       "        (conv): KANLinear(\n",
       "          (base_activation): SiLU()\n",
       "        )\n",
       "      )\n",
       "    )\n",
       "  )\n",
       "  (conv2): KAN_Convolutional_Layer(\n",
       "    (convs): ModuleList(\n",
       "      (0-4): 5 x KAN_Convolution(\n",
       "        (conv): KANLinear(\n",
       "          (base_activation): SiLU()\n",
       "        )\n",
       "      )\n",
       "    )\n",
       "  )\n",
       "  (pool1): MaxPool2d(kernel_size=(2, 2), stride=(2, 2), padding=0, dilation=1, ceil_mode=False)\n",
       "  (flat): Flatten(start_dim=1, end_dim=-1)\n",
       "  (kan1): KANLinear(\n",
       "    (base_activation): SiLU()\n",
       "  )\n",
       ")"
      ]
     },
     "execution_count": 11,
     "metadata": {},
     "output_type": "execute_result"
    }
   ],
   "source": [
    "kkan_model = KKAN_Convolutional_Network()\n",
    "# kkan_model.to(device)\n",
    "kkan_model.load_state_dict(torch.load('models/fashion-mnist/KKAN_Convolutional/best_model.pth',weights_only=True,  map_location=torch.device('cpu')))\n",
    "kkan_model.eval()  "
   ]
  },
  {
   "cell_type": "code",
   "execution_count": 12,
   "metadata": {},
   "outputs": [
    {
     "name": "stdout",
     "output_type": "stream",
     "text": [
      "(0.8901, 0.8896094174870072, 0.8901, 0.8897385508046677)\n"
     ]
    }
   ],
   "source": [
    "# \n",
    "def calculate_metrics_cpu(model, dataloader):\n",
    "    model.eval()\n",
    "    all_preds = []\n",
    "    all_labels = []\n",
    "    \n",
    "    with torch.no_grad():\n",
    "        for data, target in dataloader:\n",
    "            # data, target = data.to(device), target.to(device)  # Ensure data and target are on the correct device\n",
    "            output = model(data)\n",
    "            preds = output.argmax(dim=1, keepdim=True).cpu().numpy()\n",
    "            all_preds.extend(preds)\n",
    "            all_labels.extend(target.cpu().numpy())\n",
    "    \n",
    "    all_preds = np.array(all_preds).flatten()\n",
    "    all_labels = np.array(all_labels).flatten()\n",
    "    \n",
    "    accuracy = accuracy_score(all_labels, all_preds)\n",
    "    precision = precision_score(all_labels, all_preds, average='weighted')\n",
    "    recall = recall_score(all_labels, all_preds, average='weighted')\n",
    "    f1 = f1_score(all_labels, all_preds, average='weighted')\n",
    "    \n",
    "    return accuracy, precision, recall, f1\n",
    "\n",
    "kkan_metrics = calculate_metrics_cpu(kkan_model, fashion_mnist_test_loader)\n",
    "num_params_kkan = count_parameters(kkan_model)\n",
    "\n",
    "print(kkan_metrics)\n",
    "\n",
    "fashion_mnist_results.append({\n",
    "        'Model': \"KKAN_Convolutional_Network\",\n",
    "        'Accuracy': kkan_metrics[0],\n",
    "        'Precision': kkan_metrics[1],\n",
    "        'Recall': kkan_metrics[2],\n",
    "        'F1 Score': kkan_metrics[3],\n",
    "        'Parameters': num_params\n",
    "    })"
   ]
  },
  {
   "cell_type": "code",
   "execution_count": 14,
   "metadata": {},
   "outputs": [
    {
     "data": {
      "text/html": [
       "<style type=\"text/css\">\n",
       "</style>\n",
       "<table id=\"T_09af1\">\n",
       "  <caption>Model Evaluation Metrics on Fashion-MNIST Dataset</caption>\n",
       "  <thead>\n",
       "    <tr>\n",
       "      <th class=\"blank level0\" >&nbsp;</th>\n",
       "      <th id=\"T_09af1_level0_col0\" class=\"col_heading level0 col0\" >Model</th>\n",
       "      <th id=\"T_09af1_level0_col1\" class=\"col_heading level0 col1\" >Accuracy</th>\n",
       "      <th id=\"T_09af1_level0_col2\" class=\"col_heading level0 col2\" >Precision</th>\n",
       "      <th id=\"T_09af1_level0_col3\" class=\"col_heading level0 col3\" >Recall</th>\n",
       "      <th id=\"T_09af1_level0_col4\" class=\"col_heading level0 col4\" >F1 Score</th>\n",
       "      <th id=\"T_09af1_level0_col5\" class=\"col_heading level0 col5\" >Parameters</th>\n",
       "    </tr>\n",
       "  </thead>\n",
       "  <tbody>\n",
       "    <tr>\n",
       "      <th id=\"T_09af1_level0_row0\" class=\"row_heading level0 row0\" >0</th>\n",
       "      <td id=\"T_09af1_row0_col0\" class=\"data row0 col0\" >SimpleCNN_2</td>\n",
       "      <td id=\"T_09af1_row0_col1\" class=\"data row0 col1\" >0.8988</td>\n",
       "      <td id=\"T_09af1_row0_col2\" class=\"data row0 col2\" >0.8981</td>\n",
       "      <td id=\"T_09af1_row0_col3\" class=\"data row0 col3\" >0.8988</td>\n",
       "      <td id=\"T_09af1_row0_col4\" class=\"data row0 col4\" >0.8981</td>\n",
       "      <td id=\"T_09af1_row0_col5\" class=\"data row0 col5\" >157,030</td>\n",
       "    </tr>\n",
       "    <tr>\n",
       "      <th id=\"T_09af1_level0_row1\" class=\"row_heading level0 row1\" >1</th>\n",
       "      <td id=\"T_09af1_row1_col0\" class=\"data row1 col0\" >SimpleCNN</td>\n",
       "      <td id=\"T_09af1_row1_col1\" class=\"data row1 col1\" >0.8695</td>\n",
       "      <td id=\"T_09af1_row1_col2\" class=\"data row1 col2\" >0.8692</td>\n",
       "      <td id=\"T_09af1_row1_col3\" class=\"data row1 col3\" >0.8695</td>\n",
       "      <td id=\"T_09af1_row1_col4\" class=\"data row1 col4\" >0.8691</td>\n",
       "      <td id=\"T_09af1_row1_col5\" class=\"data row1 col5\" >2,740</td>\n",
       "    </tr>\n",
       "    <tr>\n",
       "      <th id=\"T_09af1_level0_row2\" class=\"row_heading level0 row2\" >2</th>\n",
       "      <td id=\"T_09af1_row2_col0\" class=\"data row2 col0\" >SimpleLinear</td>\n",
       "      <td id=\"T_09af1_row2_col1\" class=\"data row2 col1\" >0.8428</td>\n",
       "      <td id=\"T_09af1_row2_col2\" class=\"data row2 col2\" >0.8412</td>\n",
       "      <td id=\"T_09af1_row2_col3\" class=\"data row2 col3\" >0.8428</td>\n",
       "      <td id=\"T_09af1_row2_col4\" class=\"data row2 col4\" >0.8412</td>\n",
       "      <td id=\"T_09af1_row2_col5\" class=\"data row2 col5\" >7,850</td>\n",
       "    </tr>\n",
       "    <tr>\n",
       "      <th id=\"T_09af1_level0_row3\" class=\"row_heading level0 row3\" >3</th>\n",
       "      <td id=\"T_09af1_row3_col0\" class=\"data row3 col0\" >ConvNet</td>\n",
       "      <td id=\"T_09af1_row3_col1\" class=\"data row3 col1\" >0.9248</td>\n",
       "      <td id=\"T_09af1_row3_col2\" class=\"data row3 col2\" >0.9243</td>\n",
       "      <td id=\"T_09af1_row3_col3\" class=\"data row3 col3\" >0.9248</td>\n",
       "      <td id=\"T_09af1_row3_col4\" class=\"data row3 col4\" >0.9243</td>\n",
       "      <td id=\"T_09af1_row3_col5\" class=\"data row3 col5\" >887,530</td>\n",
       "    </tr>\n",
       "    <tr>\n",
       "      <th id=\"T_09af1_level0_row4\" class=\"row_heading level0 row4\" >4</th>\n",
       "      <td id=\"T_09af1_row4_col0\" class=\"data row4 col0\" >NormalConvsKAN</td>\n",
       "      <td id=\"T_09af1_row4_col1\" class=\"data row4 col1\" >0.8861</td>\n",
       "      <td id=\"T_09af1_row4_col2\" class=\"data row4 col2\" >0.8853</td>\n",
       "      <td id=\"T_09af1_row4_col3\" class=\"data row4 col3\" >0.8861</td>\n",
       "      <td id=\"T_09af1_row4_col4\" class=\"data row4 col4\" >0.8852</td>\n",
       "      <td id=\"T_09af1_row4_col5\" class=\"data row4 col5\" >37,030</td>\n",
       "    </tr>\n",
       "    <tr>\n",
       "      <th id=\"T_09af1_level0_row5\" class=\"row_heading level0 row5\" >5</th>\n",
       "      <td id=\"T_09af1_row5_col0\" class=\"data row5 col0\" >KKAN_Convolutional_Network</td>\n",
       "      <td id=\"T_09af1_row5_col1\" class=\"data row5 col1\" >0.8901</td>\n",
       "      <td id=\"T_09af1_row5_col2\" class=\"data row5 col2\" >0.8896</td>\n",
       "      <td id=\"T_09af1_row5_col3\" class=\"data row5 col3\" >0.8901</td>\n",
       "      <td id=\"T_09af1_row5_col4\" class=\"data row5 col4\" >0.8897</td>\n",
       "      <td id=\"T_09af1_row5_col5\" class=\"data row5 col5\" >37,030</td>\n",
       "    </tr>\n",
       "    <tr>\n",
       "      <th id=\"T_09af1_level0_row6\" class=\"row_heading level0 row6\" >6</th>\n",
       "      <td id=\"T_09af1_row6_col0\" class=\"data row6 col0\" >KANC_MLP</td>\n",
       "      <td id=\"T_09af1_row6_col1\" class=\"data row6 col1\" >0.8882</td>\n",
       "      <td id=\"T_09af1_row6_col2\" class=\"data row6 col2\" >0.8880</td>\n",
       "      <td id=\"T_09af1_row6_col3\" class=\"data row6 col3\" >0.8882</td>\n",
       "      <td id=\"T_09af1_row6_col4\" class=\"data row6 col4\" >0.8880</td>\n",
       "      <td id=\"T_09af1_row6_col5\" class=\"data row6 col5\" >163,726</td>\n",
       "    </tr>\n",
       "  </tbody>\n",
       "</table>\n"
      ],
      "text/plain": [
       "<pandas.io.formats.style.Styler at 0x1e9cd9133d0>"
      ]
     },
     "execution_count": 14,
     "metadata": {},
     "output_type": "execute_result"
    }
   ],
   "source": [
    "# Create DataFrames\n",
    "df_fashion_mnist_results = pd.DataFrame(fashion_mnist_results)\n",
    "\n",
    "# Style the DataFrames\n",
    "\n",
    "df_fashion_mnist_styled = df_fashion_mnist_results.style.format({\n",
    "    'Accuracy': '{:.4f}',\n",
    "    'Precision': '{:.4f}',\n",
    "    'Recall': '{:.4f}',\n",
    "    'F1 Score': '{:.4f}',\n",
    "    'Parameters': '{:,}'\n",
    "}).set_caption(\"Model Evaluation Metrics on Fashion-MNIST Dataset\")\n",
    "\n",
    "# Display the styled DataFrames\n",
    "df_fashion_mnist_styled"
   ]
  }
 ],
 "metadata": {
  "kernelspec": {
   "display_name": "ckan",
   "language": "python",
   "name": "python3"
  },
  "language_info": {
   "codemirror_mode": {
    "name": "ipython",
    "version": 3
   },
   "file_extension": ".py",
   "mimetype": "text/x-python",
   "name": "python",
   "nbconvert_exporter": "python",
   "pygments_lexer": "ipython3",
   "version": "3.11.9"
  }
 },
 "nbformat": 4,
 "nbformat_minor": 2
}
